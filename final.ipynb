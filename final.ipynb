{
 "cells": [
  {
   "cell_type": "code",
   "execution_count": 2,
   "metadata": {},
   "outputs": [],
   "source": [
    "import snap\n",
    "import random\n",
    "import numpy as np\n",
    "import matplotlib.pyplot as plt\n",
    "import powerlaw\n",
    "import math\n",
    "import networkx as nx"
   ]
  },
  {
   "cell_type": "code",
   "execution_count": 3,
   "metadata": {},
   "outputs": [],
   "source": [
    "def UndirectMe(G):\n",
    "    GU = snap.TUNGraph.New()\n",
    "    for N in G.Nodes():\n",
    "        NId = N.GetId()\n",
    "        GU.AddNode(NId)\n",
    "        Gu.AddNode(2 * NId)\n",
    "    \n",
    "    for E in G.Edges():\n",
    "        Src = E.GetSrcNId()\n",
    "        Dst = E.GetDstNId()\n",
    "        \n",
    "        \n",
    "    "
   ]
  },
  {
   "cell_type": "code",
   "execution_count": 4,
   "metadata": {},
   "outputs": [],
   "source": [
    "def loadDirectedSigns(filename):\n",
    "    \"\"\"\n",
    "    :param - filename: undirected graph with associated edge sign\n",
    "    return type: dictionary (key = node pair (a,b), value = sign)\n",
    "    return: Return sign associated with node pairs. Both pairs, (a,b) and (b,a)\n",
    "    are stored as keys. Self-edges are NOT included.\n",
    "    \"\"\"\n",
    "    signs = {}\n",
    "    with open(filename, 'r') as ipfile:\n",
    "      for line in ipfile:\n",
    "        if line[0] != '#':\n",
    "            if filename[-3:] == \"csv\":\n",
    "              line_arr = line.split(',')\n",
    "            else:\n",
    "              line_arr = line.split()\n",
    "            if line_arr[0] == line_arr[1]:\n",
    "              continue\n",
    "            node1 = int(line_arr[0])\n",
    "            node2 = int(line_arr[1])\n",
    "            sign = int(line_arr[2])\n",
    "            signs[(node1, node2)] = sign\n",
    "\n",
    "    return signs"
   ]
  },
  {
   "cell_type": "code",
   "execution_count": 5,
   "metadata": {},
   "outputs": [],
   "source": [
    "def GetNetworkxG(G, signs):\n",
    "    Gnx = nx.DiGraph()\n",
    "    Gnxu = nx.Graph()\n",
    "    for N in G.Nodes():\n",
    "        Gnx.add_node(N.GetId())\n",
    "        Gnxu.add_node(N.GetId())\n",
    "    for E in G.Edges():\n",
    "        src = E.GetSrcNId()\n",
    "        dst = E.GetDstNId()\n",
    "        Gnx.add_weighted_edges_from([(src, dst, signs[(src, dst)])])\n",
    "        Gnxu.add_weighted_edges_from([(src, dst, signs[(src, dst)])]) \n",
    "        \n",
    "    return Gnx, Gnxu"
   ]
  },
  {
   "cell_type": "code",
   "execution_count": 6,
   "metadata": {},
   "outputs": [],
   "source": [
    "def makeSignsPositive(signs):\n",
    "    minSign = min(signs.values())\n",
    "    modMinSign = abs(minSign)\n",
    "    newSigns = {}\n",
    "    for i in signs.keys():\n",
    "        newSigns[i] = signs[i] + modMinSign + 1\n",
    "    return newSigns"
   ]
  },
  {
   "cell_type": "code",
   "execution_count": 7,
   "metadata": {},
   "outputs": [],
   "source": [
    "def GetCNCoeff(G, signs, x ,y):\n",
    "    # signs > 0\n",
    "    # x -> y\n",
    "    \n",
    "    xo = GetNeighO(G, signs, x)\n",
    "    xi = GetNeighI(G, signs, x)\n",
    "    yo = GetNeighO(G, signs, y)\n",
    "    yi = GetNeighI(G, signs, y)\n",
    "    \n",
    "    # wxy\n",
    "    woo = sum([xo[i] if i in yo.keys() else 0 for i in xo.keys()])\n",
    "    wio = sum([xi[i] if i in yo.keys() else 0 for i in xi.keys()])\n",
    "    woi = sum([xo[i] if i in yi.keys() else 0 for i in xo.keys()])\n",
    "    wii = sum([xi[i] if i in yi.keys() else 0 for i in xi.keys()])\n",
    "    \n",
    "    return woo, wio, woi, wii"
   ]
  },
  {
   "cell_type": "code",
   "execution_count": 8,
   "metadata": {},
   "outputs": [],
   "source": [
    "def GetJaccardCoeff(G, signs, x, y):\n",
    "    # signs > 0\n",
    "    # x -> y\n",
    "    \n",
    "    xo = GetNeighO(G, signs, x)\n",
    "    xi = GetNeighI(G, signs, x)\n",
    "    yo = GetNeighO(G, signs, y)\n",
    "    yi = GetNeighI(G, signs, y)\n",
    "    \n",
    "    # nxy\n",
    "    noo = sum([xo[i] if i in yo.keys() else 0 for i in xo.keys()])\n",
    "    nio = sum([xi[i] if i in yo.keys() else 0 for i in xi.keys()])\n",
    "    noi = sum([xo[i] if i in yi.keys() else 0 for i in xo.keys()])\n",
    "    nii = sum([xi[i] if i in yi.keys() else 0 for i in xi.keys()])\n",
    "    \n",
    "    #dxy\n",
    "    doo = sum(xo.values()) + sum(yo.values())\n",
    "    dio = sum(xi.values()) + sum(yo.values())\n",
    "    doi = sum(xo.values()) + sum(yi.values())\n",
    "    dii = sum(xi.values()) + sum(yi.values())\n",
    "    \n",
    "    foo = 1.0 * noo / doo if doo != 0 else 0\n",
    "    fio = 1.0 * nio / dio if dio != 0 else 0\n",
    "    foi = 1.0 * noi / doi if doi != 0 else 0\n",
    "    fii = 1.0 * nii / dii if dii != 0 else 0\n",
    "    \n",
    "    return foo, fio, foi, fii"
   ]
  },
  {
   "cell_type": "code",
   "execution_count": 9,
   "metadata": {},
   "outputs": [],
   "source": [
    "def PACoeff(G, signs, x, y):\n",
    "    # signs > 0\n",
    "    # x -> y\n",
    "    \n",
    "    xo = GetNeighO(G, signs, x)\n",
    "    xi = GetNeighI(G, signs, x)\n",
    "    yo = GetNeighO(G, signs, y)\n",
    "    yi = GetNeighI(G, signs, y)\n",
    "    \n",
    "    woo = sum(xo.values()) * sum(yo.values())\n",
    "    wio = sum(xi.values()) * sum(yo.values())\n",
    "    woi = sum(xo.values()) * sum(yi.values())\n",
    "    wii = sum(xi.values()) * sum(yi.values())\n",
    "    \n",
    "    return woo, wio, woi, wii"
   ]
  },
  {
   "cell_type": "code",
   "execution_count": 10,
   "metadata": {},
   "outputs": [],
   "source": [
    "def AACoeff(G, signs, x, y, VolO, VolI, Vol):\n",
    "    \n",
    "    xo = GetNeighO(G, signs, x)\n",
    "    xi = GetNeighI(G, signs, x)\n",
    "    yo = GetNeighO(G, signs, y)\n",
    "    yi = GetNeighI(G, signs, y)\n",
    "        \n",
    "    woo = sum([1.0 * (xo[z] + yo[z]) / math.log(1 + VolI[z]) if z in yo.keys() else 0 for z in xo.keys()])\n",
    "    wio = sum([1.0 * (xi[z] + yo[z]) / math.log(1 + Vol[z]) if z in yo.keys() else 0 for z in xi.keys()])\n",
    "    woi = sum([1.0 * (xo[z] + yi[z]) / math.log(1 + Vol[z]) if z in yi.keys() else 0 for z in xo.keys()])\n",
    "    wii = sum([1.0 * (xi[z] + yi[z]) / math.log(1 + VolO[z]) if z in yi.keys() else 0 for z in xi.keys()])\n",
    "    \n",
    "    return woo, wio, woi, wii"
   ]
  },
  {
   "cell_type": "code",
   "execution_count": 11,
   "metadata": {},
   "outputs": [],
   "source": [
    "def RACoeff(G, signs, x, y, VolO, VolI, Vol):\n",
    "    \n",
    "    xo = GetNeighO(G, signs, x)\n",
    "    xi = GetNeighI(G, signs, x)\n",
    "    yo = GetNeighO(G, signs, y)\n",
    "    yi = GetNeighI(G, signs, y)\n",
    "        \n",
    "    woo = sum([1.0 * (xo[z] + yo[z]) / VolI[z] if z in yo.keys() else 0 for z in xo.keys()])\n",
    "    wio = sum([1.0 * (xi[z] + yo[z]) / Vol[z] if z in yo.keys() else 0 for z in xi.keys()])\n",
    "    woi = sum([1.0 * (xo[z] + yi[z]) / Vol[z] if z in yi.keys() else 0 for z in xo.keys()])\n",
    "    wii = sum([1.0 * (xi[z] + yi[z]) / VolO[z] if z in yi.keys() else 0 for z in xi.keys()])\n",
    "    \n",
    "    return woo, wio, woi, wii"
   ]
  },
  {
   "cell_type": "code",
   "execution_count": 12,
   "metadata": {},
   "outputs": [],
   "source": [
    "def CCCoeff(G, signs, x, y, C):\n",
    "    return C[x] + C[y]"
   ]
  },
  {
   "cell_type": "code",
   "execution_count": 13,
   "metadata": {},
   "outputs": [],
   "source": [
    "def GetNeighO(G, signs, NId):\n",
    "    N = G.GetNI(NId)\n",
    "    Neighs = {}\n",
    "    OutDeg = N.GetOutDeg()\n",
    "    for i in range(OutDeg):\n",
    "        Neigh = N.GetOutNId(i)\n",
    "        Weight = signs[(N.GetId(), Neigh)]\n",
    "        Neighs[Neigh] = Weight\n",
    "    return Neighs\n",
    "\n",
    "def GetNeighI(G, signs, NId):\n",
    "    N = G.GetNI(NId)\n",
    "    Neighs = {}\n",
    "    InDeg = N.GetInDeg()\n",
    "    for i in range(InDeg):\n",
    "        Neigh = N.GetInNId(i)\n",
    "        Weight = signs[(Neigh, N.GetId())]\n",
    "        Neighs[Neigh] = Weight\n",
    "    return Neighs\n",
    "\n",
    "def GetVolO(G, signs, NId):\n",
    "    return sum(GetNeighO(G, signs, NId).values())\n",
    "\n",
    "def GetVolI(G, signs, NId):\n",
    "    return sum(GetNeighI(G, signs, NId).values())\n",
    "\n",
    "def GetVol(G, signs, NId):\n",
    "    return GetVolO(G, signs, NId) + GetVolI(G, signs, NId)"
   ]
  },
  {
   "cell_type": "code",
   "execution_count": 14,
   "metadata": {},
   "outputs": [
    {
     "name": "stdout",
     "output_type": "stream",
     "text": [
      "0 100 200 300 400 500 600 700 800 900 1000 1100 1200 1300 1400 1500 1600 1700 1800 1900 2000 2100 2200 2300 2400 2500 2600 2700 2800 2900 3000 3100 3200 3300 3400 3500 3600 3700 3800 3900 4000 4100 4200 4300 4400 4500 4600 4700 4800 4900 5000 5100 5200 5300 5400 5500 5600 5700 5800 5900 6000 6100 6200 6300 6400 6500 6600 6700 6800 6900 7000 7100 7200 7300 7400 7500 7600 7700 7800 7900 8000 8100 8200 8300 8400 8500 8600 8700 8800 8900 9000 9100 9200 9300 9400 9500 9600 9700 9800 9900 10000 10100 10200 10300 10400 10500 10600 10700 10800 10900 11000 11100 11200 11300 11400 11500 11600 11700 11800 11900 12000 12100 12200 12300 12400 12500 12600 12700 12800 12900 13000 13100 13200 13300 13400 13500 13600 13700 13800 13900 14000 14100 14200 14300 14400 14500 14600 14700 14800 14900 15000 15100 15200 15300 15400 15500 15600 15700 15800 15900 16000 16100 16200 16300 16400 16500 16600 16700 16800 16900 17000 17100 17200 17300 17400 17500 17600 17700 17800 17900 18000 18100 18200 18300 18400 18500 18600 18700 18800 18900 19000 19100 19200 19300 19400 19500 19600 19700 19800 19900 20000 20100 20200 20300 20400 20500 20600 20700 20800 20900 21000 21100 21200 21300 21400 21500 21600 21700 21800 21900 22000 22100 22200 22300 22400 22500 22600 22700 22800 22900 23000 23100 23200 23300 23400 23500 23600 23700 23800 23900 24000 24100 24200 24300 24400 24500 24600 24700 24800 24900 25000 25100 25200 25300 25400 25500 25600 25700 25800 25900 26000 26100 26200 26300 26400 26500 26600 26700 26800 26900 27000 27100 27200 27300 27400 27500 27600 27700 27800 27900 28000 28100 28200 28300 28400 28500 28600 28700 28800 28900 29000 29100 29200 29300 29400 29500 29600 29700 29800 29900 30000 30100 30200 30300 30400 30500 30600 30700 30800 30900 31000 31100 31200 31300 31400 31500 31600 31700 31800 31900 32000 32100 32200 32300 32400 32500 32600 32700 32800 32900 33000 33100 33200 33300 33400 33500 33600 33700 33800 33900 34000 34100 34200 34300 34400 34500 34600 34700 34800 34900 35000 35100 35200 35300 35400 35500\n"
     ]
    }
   ],
   "source": [
    "G = snap.LoadEdgeList(snap.PNGraph, \"Datasets/soc-sign-bitcoinotc.csv\", 0, 1, ',')\n",
    "signs = loadDirectedSigns(\"Datasets/soc-sign-bitcoinotc.csv\")\n",
    "pSigns = makeSignsPositive(signs)\n",
    "Gnx, Gnxu = GetNetworkxG(G, signs)\n",
    "\n",
    "c = 0\n",
    "Vol = {}\n",
    "VolI = {}\n",
    "VolO = {}\n",
    "CC = {}\n",
    "for N in G.Nodes():\n",
    "    CC[N.GetId()] = nx.clustering(Gnxu, N.GetId())\n",
    "    VolO[N.GetId()] = GetVolO(G, pSigns, N.GetId())\n",
    "    VolI[N.GetId()] = GetVolI(G, pSigns, N.GetId())\n",
    "    Vol[N.GetId()] = GetVol(G, pSigns, N.GetId())\n",
    "\n",
    "M = []\n",
    "Y = []\n",
    "for e in G.Edges():\n",
    "    if c % 100 == 0:\n",
    "        print c,\n",
    "    f = []\n",
    "    src = e.GetSrcNId()\n",
    "    dst = e.GetDstNId()\n",
    "\n",
    "    c1,c2,c3,c4 = GetCNCoeff(G, pSigns, src, dst)\n",
    "    f.append(c1)\n",
    "    f.append(c2)\n",
    "    f.append(c3)\n",
    "    f.append(c4)\n",
    "    \n",
    "    c1,c2,c3,c4 = GetJaccardCoeff(G, pSigns, src, dst)\n",
    "    f.append(c1)\n",
    "    f.append(c2)\n",
    "    f.append(c3)\n",
    "    f.append(c4)\n",
    "\n",
    "    c1,c2,c3,c4 = PACoeff(G, pSigns, src, dst)\n",
    "    f.append(c1)\n",
    "    f.append(c2)\n",
    "    f.append(c3)\n",
    "    f.append(c4)\n",
    "    \n",
    "    c1,c2,c3,c4 = AACoeff(G, pSigns, src, dst, VolO, VolI, Vol)\n",
    "    f.append(c1)\n",
    "    f.append(c2)\n",
    "    f.append(c3)\n",
    "    f.append(c4)\n",
    "\n",
    "    c1,c2,c3,c4 = RACoeff(G, pSigns, src, dst, VolO, VolI, Vol)\n",
    "    f.append(c1)\n",
    "    f.append(c2)\n",
    "    f.append(c3)\n",
    "    f.append(c4)\n",
    "\n",
    "    c1 = CCCoeff(G, pSigns, src, dst, CC)\n",
    "    f.append(c1)\n",
    "    \n",
    "    f.append(1)\n",
    "    \n",
    "    M.append(f)\n",
    "    Y.append(pSigns[src, dst])\n",
    "    \n",
    "    c += 1\n"
   ]
  },
  {
   "cell_type": "code",
   "execution_count": 1,
   "metadata": {},
   "outputs": [
    {
     "ename": "NameError",
     "evalue": "name 'np' is not defined",
     "output_type": "error",
     "traceback": [
      "\u001b[0;31m---------------------------------------------------------------------------\u001b[0m",
      "\u001b[0;31mNameError\u001b[0m                                 Traceback (most recent call last)",
      "\u001b[0;32m<ipython-input-1-f9bf9448e827>\u001b[0m in \u001b[0;36m<module>\u001b[0;34m()\u001b[0m\n\u001b[0;32m----> 1\u001b[0;31m \u001b[0mMn\u001b[0m \u001b[0;34m=\u001b[0m \u001b[0mnp\u001b[0m\u001b[0;34m.\u001b[0m\u001b[0marray\u001b[0m\u001b[0;34m(\u001b[0m\u001b[0mM\u001b[0m\u001b[0;34m)\u001b[0m\u001b[0;34m\u001b[0m\u001b[0m\n\u001b[0m\u001b[1;32m      2\u001b[0m \u001b[0mYn\u001b[0m \u001b[0;34m=\u001b[0m \u001b[0mnp\u001b[0m\u001b[0;34m.\u001b[0m\u001b[0marray\u001b[0m\u001b[0;34m(\u001b[0m\u001b[0mY\u001b[0m\u001b[0;34m)\u001b[0m\u001b[0;34m\u001b[0m\u001b[0m\n\u001b[1;32m      3\u001b[0m \u001b[0;32mprint\u001b[0m \u001b[0mMn\u001b[0m\u001b[0;34m.\u001b[0m\u001b[0mshape\u001b[0m\u001b[0;34m,\u001b[0m \u001b[0mYn\u001b[0m\u001b[0;34m.\u001b[0m\u001b[0mshape\u001b[0m\u001b[0;34m\u001b[0m\u001b[0m\n\u001b[1;32m      4\u001b[0m \u001b[0mcoefficients\u001b[0m \u001b[0;34m=\u001b[0m \u001b[0mnp\u001b[0m\u001b[0;34m.\u001b[0m\u001b[0mlinalg\u001b[0m\u001b[0;34m.\u001b[0m\u001b[0mlstsq\u001b[0m\u001b[0;34m(\u001b[0m\u001b[0mMn\u001b[0m\u001b[0;34m,\u001b[0m \u001b[0mYn\u001b[0m\u001b[0;34m)\u001b[0m\u001b[0;34m[\u001b[0m\u001b[0;36m0\u001b[0m\u001b[0;34m]\u001b[0m\u001b[0;34m\u001b[0m\u001b[0m\n\u001b[1;32m      5\u001b[0m \u001b[0;32mprint\u001b[0m \u001b[0mcoefficients\u001b[0m\u001b[0;34m.\u001b[0m\u001b[0mshape\u001b[0m\u001b[0;34m\u001b[0m\u001b[0m\n",
      "\u001b[0;31mNameError\u001b[0m: name 'np' is not defined"
     ]
    }
   ],
   "source": [
    "Mn = np.array(M)\n",
    "Yn = np.array(Y)\n",
    "print Mn.shape, Yn.shape\n",
    "coefficients = np.linalg.lstsq(Mn, Yn)[0]\n",
    "print coefficients.shape"
   ]
  },
  {
   "cell_type": "code",
   "execution_count": null,
   "metadata": {},
   "outputs": [],
   "source": []
  },
  {
   "cell_type": "code",
   "execution_count": 76,
   "metadata": {},
   "outputs": [
    {
     "name": "stdout",
     "output_type": "stream",
     "text": [
      "28200 35592 35592\n",
      "[20250, 4160, 1486, 596, 446, 156, 134, 118, 112, 286, 20, 234, 80, 38, 18, 20, 0, 4, 4, 14, 24, 0]\n"
     ]
    },
    {
     "data": {
      "image/png": "[encoded data removed]",
      "text/plain": [
       "<matplotlib.figure.Figure at 0x1126df9d0>"
      ]
     },
     "metadata": {},
     "output_type": "display_data"
    }
   ],
   "source": [
    "count = 0\n",
    "e = 0\n",
    "diff = [0 for i in range(max(pSigns.values()) + 1)]\n",
    "for N in G.Nodes():\n",
    "    NId = N.GetId()\n",
    "    OutDeg = N.GetOutDeg()\n",
    "    for i in range(OutDeg):\n",
    "        e += 1\n",
    "        Neigh = N.GetOutNId(i)\n",
    "        if G.IsEdge(Neigh, NId):\n",
    "            count += 1\n",
    "            diff[abs(signs[(Neigh, NId)] - signs[(NId, Neigh)])] += 1\n",
    "\n",
    "print count, e, G.GetEdges()\n",
    "print diff\n",
    "plt.plot(range(22), diff, color = 'r', label = \"Reciprocation trust difference\")\n",
    "plt.xlabel('Mod of trust difference')\n",
    "plt.ylabel('Number of such pairs')\n",
    "plt.title('Difference in reciprocated trust')\n",
    "plt.show()"
   ]
  },
  {
   "cell_type": "code",
   "execution_count": 5,
   "metadata": {},
   "outputs": [
    {
     "name": "stdout",
     "output_type": "stream",
     "text": [
      "Community: 1991\n",
      "Community: 1671\n",
      "Community: 623\n",
      "Community: 6\n",
      "Community: 451\n",
      "Community: 592\n",
      "Community: 94\n",
      "Community: 4\n",
      "Community: 6\n",
      "Community: 44\n",
      "Community: 31\n",
      "Community: 3\n",
      "Community: 171\n",
      "Community: 2\n",
      "Community: 3\n",
      "Community: 2\n",
      "Community: 11\n",
      "Community: 3\n",
      "Community: 3\n",
      "Community: 2\n",
      "Community: 4\n",
      "Community: 3\n",
      "Community: 3\n",
      "Community: 2\n",
      "Community: 3\n",
      "Community: 4\n",
      "Community: 2\n",
      "Community: 4\n",
      "Community: 3\n",
      "Community: 12\n",
      "Community: 2\n",
      "Community: 2\n",
      "Community: 12\n",
      "Community: 2\n",
      "Community: 14\n",
      "Community: 2\n",
      "Community: 6\n",
      "Community: 2\n",
      "Community: 6\n",
      "Community: 3\n",
      "Community: 2\n",
      "Community: 2\n",
      "Community: 8\n",
      "Community: 2\n",
      "Community: 2\n",
      "Community: 2\n",
      "Community: 2\n",
      "Community: 4\n",
      "Community: 2\n",
      "Community: 2\n",
      "Community: 2\n",
      "Community: 4\n",
      "Community: 16\n",
      "Community: 3\n",
      "Community: 3\n",
      "Community: 6\n",
      "Community: 7\n",
      "Community: 4\n",
      "Community: 2\n",
      "Community: 2\n",
      "The modularity of the network is 0.455962\n"
     ]
    }
   ],
   "source": [
    "CmtyV = snap.TCnComV()\n",
    "modularity = snap.CommunityCNM(G, CmtyV)\n",
    "for Cmty in CmtyV:\n",
    "    print \"Community: \" + str(len(Cmty))\n",
    "#     for NI in Cmty:\n",
    "#         print NI\n",
    "print \"The modularity of the network is %f\" % modularity\n"
   ]
  },
  {
   "cell_type": "code",
   "execution_count": null,
   "metadata": {},
   "outputs": [],
   "source": []
  }
 ],
 "metadata": {
  "kernelspec": {
   "display_name": "Python 2",
   "language": "python",
   "name": "python2"
  },
  "language_info": {
   "codemirror_mode": {
    "name": "ipython",
    "version": 2
   },
   "file_extension": ".py",
   "mimetype": "text/x-python",
   "name": "python",
   "nbconvert_exporter": "python",
   "pygments_lexer": "ipython2",
   "version": "2.7.13"
  }
 },
 "nbformat": 4,
 "nbformat_minor": 2
}
